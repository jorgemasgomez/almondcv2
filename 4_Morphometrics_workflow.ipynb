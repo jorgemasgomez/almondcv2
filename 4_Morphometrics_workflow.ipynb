{
 "cells": [
  {
   "cell_type": "markdown",
   "metadata": {},
   "source": [
    "# 4.Morphometrics"
   ]
  },
  {
   "cell_type": "code",
   "execution_count": 1,
   "metadata": {},
   "outputs": [],
   "source": [
    "#Import libraries\n",
    "import os\n",
    "from morphometrics_functions import install_morphometrics_packages_r, exploratory_morphometrics_r, run_efourier_pca_morphometrics_r, run_plot_pca_morphometrics_r, run_kmeans_efourier_r, process_images_and_perform_pca\n",
    "\n",
    "#Inputs\n",
    "\n",
    "input_masks=r\"C:\\Users\\Pheno\\Documents\\database_almondcv2\\BACKUPS_Resultados_postnavidad\\clean\\pruebas\"\n",
    "working_directory=r\"C:\\Users\\Pheno\\Documents\\database_almondcv2\\MORPHOMETRICS\"\n",
    "\n"
   ]
  },
  {
   "cell_type": "markdown",
   "metadata": {},
   "source": [
    "## Momocs"
   ]
  },
  {
   "cell_type": "code",
   "execution_count": null,
   "metadata": {},
   "outputs": [],
   "source": [
    "# For installing libraries\n",
    "install_morphometrics_packages_r()"
   ]
  },
  {
   "cell_type": "code",
   "execution_count": null,
   "metadata": {},
   "outputs": [],
   "source": [
    "#For exploring the dataset\n",
    "exploratory_morphometrics_r(info_data=\"\", grouping_factor=\"\", input_directory=input_masks,\n",
    "                             output_directory=working_directory, show=True, nharmonics=10,nexamples=2)"
   ]
  },
  {
   "cell_type": "code",
   "execution_count": null,
   "metadata": {},
   "outputs": [],
   "source": [
    "#For running EFA and PCA \n",
    "object_path=os.path.join(working_directory,\"exploratory_plots\",\"outlines_objects.rds\")\n",
    "run_efourier_pca_morphometrics_r(path_outline_objects=object_path, nharmonics=10, output_directory=working_directory,\n",
    "                                  show=True, normalize=\"False\", img_height_pca=1000, img_width_pca=1000)"
   ]
  },
  {
   "cell_type": "code",
   "execution_count": null,
   "metadata": {},
   "outputs": [],
   "source": [
    "#For plotting PCA\n",
    "object_path=os.path.join(working_directory,\"efourier_results\",\"pca_fourier.rds\")\n",
    "run_plot_pca_morphometrics_r(input_directory=object_path, output_directory=working_directory, PC_axis1=\"1\", PC_axis2=\"4\", img_height_pca=1000, img_width_pca=1000)"
   ]
  },
  {
   "cell_type": "code",
   "execution_count": null,
   "metadata": {},
   "outputs": [],
   "source": [
    "#For running kmeans\n",
    "object_path=os.path.join(working_directory,\"efourier_results\",\"pca_fourier.rds\")\n",
    "run_kmeans_efourier_r(pca_objects_path=object_path, output_directory=working_directory,max_clusters=10, img_height_pca=1000, img_width_pca=1000, plot_xlim=250, plot_ylim=250)"
   ]
  },
  {
   "cell_type": "markdown",
   "metadata": {},
   "source": [
    "## PCA Pixel-based"
   ]
  },
  {
   "cell_type": "code",
   "execution_count": null,
   "metadata": {},
   "outputs": [],
   "source": [
    "#For run Pixel-Based PCA analysis\n",
    "process_images_and_perform_pca(directory=input_masks, working_directory=working_directory, n_components=50, k_max=10, std_multiplier=3)\n"
   ]
  }
 ],
 "metadata": {
  "kernelspec": {
   "display_name": "Python 3",
   "language": "python",
   "name": "python3"
  },
  "language_info": {
   "codemirror_mode": {
    "name": "ipython",
    "version": 3
   },
   "file_extension": ".py",
   "mimetype": "text/x-python",
   "name": "python",
   "nbconvert_exporter": "python",
   "pygments_lexer": "ipython3",
   "version": "3.12.2"
  }
 },
 "nbformat": 4,
 "nbformat_minor": 2
}
