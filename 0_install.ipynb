{
 "cells": [
  {
   "cell_type": "markdown",
   "metadata": {},
   "source": [
    "# Install dependencies"
   ]
  },
  {
   "cell_type": "code",
   "execution_count": 1,
   "metadata": {},
   "outputs": [
    {
     "name": "stdout",
     "output_type": "stream",
     "text": [
      "Collecting sahi@ git+https://github.com/jorgemasgomez/sahi.git@8edc121a6744b70ab8fcc7fbf1aca58d18aa5eef (from -r requirements.txt (line 12))\n",
      "  Cloning https://github.com/jorgemasgomez/sahi.git (to revision 8edc121a6744b70ab8fcc7fbf1aca58d18aa5eef) to c:\\users\\pheno\\appdata\\local\\temp\\pip-install-a6sr6v7e\\sahi_cdd88854d4d84f409b78f903d34bd788\n",
      "  Resolved https://github.com/jorgemasgomez/sahi.git to commit 8edc121a6744b70ab8fcc7fbf1aca58d18aa5eef\n",
      "  Installing build dependencies: started\n",
      "  Installing build dependencies: finished with status 'done'\n",
      "  Getting requirements to build wheel: started\n",
      "  Getting requirements to build wheel: finished with status 'done'\n",
      "  Preparing metadata (pyproject.toml): started\n",
      "  Preparing metadata (pyproject.toml): finished with status 'done'\n",
      "Requirement already satisfied: numpy==1.26.4 in c:\\users\\pheno\\appdata\\roaming\\python\\python312\\site-packages (from -r requirements.txt (line 1)) (1.26.4)\n",
      "Requirement already satisfied: pandas==2.2.3 in c:\\users\\pheno\\appdata\\roaming\\python\\python312\\site-packages (from -r requirements.txt (line 2)) (2.2.3)\n",
      "Requirement already satisfied: plantcv==4.5.1 in c:\\users\\pheno\\appdata\\roaming\\python\\python312\\site-packages (from -r requirements.txt (line 3)) (4.5.1)\n",
      "Requirement already satisfied: opencv-python==4.10.0.84 in c:\\users\\pheno\\appdata\\local\\programs\\python\\python312\\lib\\site-packages (from -r requirements.txt (line 4)) (4.10.0.84)\n",
      "Requirement already satisfied: opencv-python-headless==4.10.0.84 in c:\\users\\pheno\\appdata\\local\\programs\\python\\python312\\lib\\site-packages (from -r requirements.txt (line 5)) (4.10.0.84)\n",
      "Requirement already satisfied: imutils==0.5.4 in c:\\users\\pheno\\appdata\\local\\programs\\python\\python312\\lib\\site-packages (from -r requirements.txt (line 6)) (0.5.4)\n",
      "Requirement already satisfied: scipy==1.14.1 in c:\\users\\pheno\\appdata\\roaming\\python\\python312\\site-packages (from -r requirements.txt (line 7)) (1.14.1)\n",
      "Requirement already satisfied: matplotlib==3.9.2 in c:\\users\\pheno\\appdata\\roaming\\python\\python312\\site-packages (from -r requirements.txt (line 8)) (3.9.2)\n",
      "Requirement already satisfied: Pillow==11.0.0 in c:\\users\\pheno\\appdata\\local\\programs\\python\\python312\\lib\\site-packages (from -r requirements.txt (line 9)) (11.0.0)\n",
      "Requirement already satisfied: torch==2.5.0+cu118 in c:\\users\\pheno\\appdata\\roaming\\python\\python312\\site-packages (from -r requirements.txt (line 10)) (2.5.0+cu118)\n",
      "Requirement already satisfied: ultralytics==8.3.18 in c:\\users\\pheno\\appdata\\roaming\\python\\python312\\site-packages (from -r requirements.txt (line 11)) (8.3.18)\n",
      "Requirement already satisfied: scikit-learn==1.5.2 in c:\\users\\pheno\\appdata\\roaming\\python\\python312\\site-packages (from -r requirements.txt (line 13)) (1.5.2)\n",
      "Requirement already satisfied: pyyaml==6.0.2 in c:\\users\\pheno\\appdata\\roaming\\python\\python312\\site-packages (from -r requirements.txt (line 14)) (6.0.2)\n",
      "Requirement already satisfied: python-dateutil>=2.8.2 in c:\\users\\pheno\\appdata\\roaming\\python\\python312\\site-packages (from pandas==2.2.3->-r requirements.txt (line 2)) (2.8.2)\n",
      "Requirement already satisfied: pytz>=2020.1 in c:\\users\\pheno\\appdata\\roaming\\python\\python312\\site-packages (from pandas==2.2.3->-r requirements.txt (line 2)) (2024.2)\n",
      "Requirement already satisfied: tzdata>=2022.7 in c:\\users\\pheno\\appdata\\roaming\\python\\python312\\site-packages (from pandas==2.2.3->-r requirements.txt (line 2)) (2024.2)\n",
      "Requirement already satisfied: scikit-image>=0.19 in c:\\users\\pheno\\appdata\\roaming\\python\\python312\\site-packages (from plantcv==4.5.1->-r requirements.txt (line 3)) (0.22.0)\n",
      "Requirement already satisfied: dask in c:\\users\\pheno\\appdata\\roaming\\python\\python312\\site-packages (from plantcv==4.5.1->-r requirements.txt (line 3)) (2024.10.0)\n",
      "Requirement already satisfied: dask-jobqueue in c:\\users\\pheno\\appdata\\roaming\\python\\python312\\site-packages (from plantcv==4.5.1->-r requirements.txt (line 3)) (0.9.0)\n",
      "Requirement already satisfied: xarray>=2022.11.0 in c:\\users\\pheno\\appdata\\roaming\\python\\python312\\site-packages (from plantcv==4.5.1->-r requirements.txt (line 3)) (2024.9.0)\n",
      "Requirement already satisfied: statsmodels in c:\\users\\pheno\\appdata\\roaming\\python\\python312\\site-packages (from plantcv==4.5.1->-r requirements.txt (line 3)) (0.14.4)\n",
      "Requirement already satisfied: altair in c:\\users\\pheno\\appdata\\roaming\\python\\python312\\site-packages (from plantcv==4.5.1->-r requirements.txt (line 3)) (5.4.1)\n",
      "Requirement already satisfied: vl-convert-python in c:\\users\\pheno\\appdata\\roaming\\python\\python312\\site-packages (from plantcv==4.5.1->-r requirements.txt (line 3)) (1.7.0)\n",
      "Requirement already satisfied: contourpy>=1.0.1 in c:\\users\\pheno\\appdata\\roaming\\python\\python312\\site-packages (from matplotlib==3.9.2->-r requirements.txt (line 8)) (1.3.0)\n",
      "Requirement already satisfied: cycler>=0.10 in c:\\users\\pheno\\appdata\\roaming\\python\\python312\\site-packages (from matplotlib==3.9.2->-r requirements.txt (line 8)) (0.12.1)\n",
      "Requirement already satisfied: fonttools>=4.22.0 in c:\\users\\pheno\\appdata\\roaming\\python\\python312\\site-packages (from matplotlib==3.9.2->-r requirements.txt (line 8)) (4.54.1)\n",
      "Requirement already satisfied: kiwisolver>=1.3.1 in c:\\users\\pheno\\appdata\\roaming\\python\\python312\\site-packages (from matplotlib==3.9.2->-r requirements.txt (line 8)) (1.4.7)\n",
      "Requirement already satisfied: packaging>=20.0 in c:\\users\\pheno\\appdata\\roaming\\python\\python312\\site-packages (from matplotlib==3.9.2->-r requirements.txt (line 8)) (23.2)\n",
      "Requirement already satisfied: pyparsing>=2.3.1 in c:\\users\\pheno\\appdata\\roaming\\python\\python312\\site-packages (from matplotlib==3.9.2->-r requirements.txt (line 8)) (3.2.0)\n",
      "Requirement already satisfied: filelock in c:\\users\\pheno\\appdata\\roaming\\python\\python312\\site-packages (from torch==2.5.0+cu118->-r requirements.txt (line 10)) (3.16.1)\n",
      "Requirement already satisfied: typing-extensions>=4.8.0 in c:\\users\\pheno\\appdata\\roaming\\python\\python312\\site-packages (from torch==2.5.0+cu118->-r requirements.txt (line 10)) (4.12.2)\n",
      "Requirement already satisfied: networkx in c:\\users\\pheno\\appdata\\roaming\\python\\python312\\site-packages (from torch==2.5.0+cu118->-r requirements.txt (line 10)) (3.4.2)\n",
      "Requirement already satisfied: jinja2 in c:\\users\\pheno\\appdata\\roaming\\python\\python312\\site-packages (from torch==2.5.0+cu118->-r requirements.txt (line 10)) (3.1.4)\n",
      "Requirement already satisfied: fsspec in c:\\users\\pheno\\appdata\\roaming\\python\\python312\\site-packages (from torch==2.5.0+cu118->-r requirements.txt (line 10)) (2024.10.0)\n",
      "Requirement already satisfied: setuptools in c:\\users\\pheno\\appdata\\local\\programs\\python\\python312\\lib\\site-packages (from torch==2.5.0+cu118->-r requirements.txt (line 10)) (69.1.1)\n",
      "Requirement already satisfied: sympy==1.13.1 in c:\\users\\pheno\\appdata\\roaming\\python\\python312\\site-packages (from torch==2.5.0+cu118->-r requirements.txt (line 10)) (1.13.1)\n",
      "Requirement already satisfied: requests>=2.23.0 in c:\\users\\pheno\\appdata\\local\\programs\\python\\python312\\lib\\site-packages (from ultralytics==8.3.18->-r requirements.txt (line 11)) (2.31.0)\n",
      "Requirement already satisfied: torchvision>=0.9.0 in c:\\users\\pheno\\appdata\\roaming\\python\\python312\\site-packages (from ultralytics==8.3.18->-r requirements.txt (line 11)) (0.20.0+cu118)\n",
      "Requirement already satisfied: tqdm>=4.64.0 in c:\\users\\pheno\\appdata\\local\\programs\\python\\python312\\lib\\site-packages (from ultralytics==8.3.18->-r requirements.txt (line 11)) (4.66.2)\n",
      "Requirement already satisfied: psutil in c:\\users\\pheno\\appdata\\roaming\\python\\python312\\site-packages (from ultralytics==8.3.18->-r requirements.txt (line 11)) (5.9.8)\n",
      "Requirement already satisfied: py-cpuinfo in c:\\users\\pheno\\appdata\\roaming\\python\\python312\\site-packages (from ultralytics==8.3.18->-r requirements.txt (line 11)) (9.0.0)\n",
      "Requirement already satisfied: seaborn>=0.11.0 in c:\\users\\pheno\\appdata\\roaming\\python\\python312\\site-packages (from ultralytics==8.3.18->-r requirements.txt (line 11)) (0.13.2)\n",
      "Requirement already satisfied: ultralytics-thop>=2.0.0 in c:\\users\\pheno\\appdata\\roaming\\python\\python312\\site-packages (from ultralytics==8.3.18->-r requirements.txt (line 11)) (2.0.9)\n",
      "Requirement already satisfied: joblib>=1.2.0 in c:\\users\\pheno\\appdata\\roaming\\python\\python312\\site-packages (from scikit-learn==1.5.2->-r requirements.txt (line 13)) (1.4.2)\n",
      "Requirement already satisfied: threadpoolctl>=3.1.0 in c:\\users\\pheno\\appdata\\roaming\\python\\python312\\site-packages (from scikit-learn==1.5.2->-r requirements.txt (line 13)) (3.5.0)\n",
      "Requirement already satisfied: mpmath<1.4,>=1.1.0 in c:\\users\\pheno\\appdata\\roaming\\python\\python312\\site-packages (from sympy==1.13.1->torch==2.5.0+cu118->-r requirements.txt (line 10)) (1.3.0)\n",
      "INFO: pip is looking at multiple versions of sahi to determine which version is compatible with other requirements. This could take a while.\n",
      "Collecting ultralytics==8.3.18 (from -r requirements.txt (line 11))\n",
      "  Using cached ultralytics-8.3.18-py3-none-any.whl.metadata (34 kB)\n",
      "Collecting plantcv==4.5.1 (from -r requirements.txt (line 3))\n",
      "  Using cached plantcv-4.5.1-py3-none-any.whl.metadata (53 kB)\n",
      "\n",
      "The conflict is caused by:\n",
      "    The user requested opencv-python==4.10.0.84\n",
      "    plantcv 4.5.1 depends on opencv-python\n",
      "    ultralytics 8.3.18 depends on opencv-python>=4.6.0\n",
      "    sahi 0.11.18 depends on opencv-python<=4.9.0.80\n",
      "\n",
      "To fix this you could try to:\n",
      "1. loosen the range of package versions you've specified\n",
      "2. remove package versions to allow pip to attempt to solve the dependency conflict\n",
      "\n"
     ]
    },
    {
     "name": "stderr",
     "output_type": "stream",
     "text": [
      "  Running command git clone --filter=blob:none --quiet https://github.com/jorgemasgomez/sahi.git 'C:\\Users\\Pheno\\AppData\\Local\\Temp\\pip-install-a6sr6v7e\\sahi_cdd88854d4d84f409b78f903d34bd788'\n",
      "  Running command git rev-parse -q --verify 'sha^8edc121a6744b70ab8fcc7fbf1aca58d18aa5eef'\n",
      "  Running command git fetch -q https://github.com/jorgemasgomez/sahi.git 8edc121a6744b70ab8fcc7fbf1aca58d18aa5eef\n",
      "  Running command git checkout -q 8edc121a6744b70ab8fcc7fbf1aca58d18aa5eef\n",
      "ERROR: Cannot install -r requirements.txt (line 11), -r requirements.txt (line 12), -r requirements.txt (line 3) and opencv-python==4.10.0.84 because these package versions have conflicting dependencies.\n",
      "\n",
      "[notice] A new release of pip is available: 24.3.1 -> 25.0\n",
      "[notice] To update, run: python.exe -m pip install --upgrade pip\n",
      "ERROR: ResolutionImpossible: for help visit https://pip.pypa.io/en/latest/topics/dependency-resolution/#dealing-with-dependency-conflicts\n"
     ]
    }
   ],
   "source": [
    "!pip install -r requirements.txt"
   ]
  },
  {
   "cell_type": "code",
   "execution_count": 4,
   "metadata": {},
   "outputs": [
    {
     "name": "stdout",
     "output_type": "stream",
     "text": [
      "asttokens==3.0.0\n",
      "colorama==0.4.6\n",
      "comm==0.2.2\n",
      "debugpy==1.8.12\n",
      "decorator==5.1.1\n",
      "executing==2.2.0\n",
      "ipykernel==6.29.5\n",
      "ipython==8.32.0\n",
      "jedi==0.19.2\n",
      "jupyter_client==8.6.3\n",
      "jupyter_core==5.7.2\n",
      "matplotlib-inline==0.1.7\n",
      "nest-asyncio==1.6.0\n",
      "packaging==24.2\n",
      "parso==0.8.4\n",
      "platformdirs==4.3.6\n",
      "prompt_toolkit==3.0.50\n",
      "psutil==6.1.1\n",
      "pure_eval==0.2.3\n",
      "Pygments==2.19.1\n",
      "python-dateutil==2.9.0.post0\n",
      "pywin32==308\n",
      "pyzmq==26.2.1\n",
      "six==1.17.0\n",
      "stack-data==0.6.3\n",
      "tornado==6.4.2\n",
      "traitlets==5.14.3\n",
      "wcwidth==0.2.13\n"
     ]
    }
   ],
   "source": [
    "!pip freeze"
   ]
  }
 ],
 "metadata": {
  "kernelspec": {
   "display_name": "Python 3",
   "language": "python",
   "name": "python3"
  },
  "language_info": {
   "codemirror_mode": {
    "name": "ipython",
    "version": 3
   },
   "file_extension": ".py",
   "mimetype": "text/x-python",
   "name": "python",
   "nbconvert_exporter": "python",
   "pygments_lexer": "ipython3",
   "version": "3.12.2"
  }
 },
 "nbformat": 4,
 "nbformat_minor": 2
}
