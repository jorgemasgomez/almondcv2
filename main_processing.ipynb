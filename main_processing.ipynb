{
 "cells": [
  {
   "cell_type": "markdown",
   "metadata": {},
   "source": [
    "# Batch images processing"
   ]
  },
  {
   "cell_type": "markdown",
   "metadata": {},
   "source": [
    "## Inputs"
   ]
  },
  {
   "cell_type": "code",
   "execution_count": 1,
   "metadata": {},
   "outputs": [],
   "source": [
    "# Import libraries\n",
    "from calibrations import  build_calibration, calibrate_color_and_distortion, calibrate_color\n",
    "import os\n",
    "import shutil\n",
    "import pandas as pd\n",
    "from aux_functions import slicing, obtain_pixel_metric, divide_in_sets, ungroup_pic, prepare_pose_dataset\n",
    "from model_class import model_segmentation\n",
    "from pictures_class import pictures\n",
    "from morphometrics_functions import install_morphometrics_packages_r, exploratory_morphometrics_r, run_efourier_pca_morphometrics_r, run_plot_pca_morphometrics_r, run_kmeans_efourier_r, run_obtain_kmeans_classification_r\n"
   ]
  },
  {
   "cell_type": "code",
   "execution_count": 2,
   "metadata": {},
   "outputs": [],
   "source": [
    "#Inputs\n",
    "working_directory=\"C:/Users/Pheno/Documents/database_almondcv2/\"\n",
    "raw_folder=\"C:/Users/Pheno/Documents/database_almondcv2/2023/all_sessions_2023/errores\"\n",
    "chessboards=\"C:/Users/Pheno/Documents/database_almondcv2/calibracion/chessboards\"\n",
    "mtx_input_path=os.path.join(chessboards,\"calibration_mtx.npz\") ## for distorsion\n",
    "standard_matrix_color=\"C:/Users/Pheno/Documents/database_almondcv2/2023/all_sessions_2023/RGB_SEED_shell_2108_1_2024-08-21-18-16-50_2.jpg\" ### a picture to select if some pictures produces errors in color \n",
    "info_data_2022=\"C:/Users/Pheno/Documents/database_almondcv2/info_data.txt\"\n",
    "info_data_2023=\"C:/Users/Pheno/Documents/database_almondcv2/info_data_2023.txt\"\n",
    "\n",
    "zip_file_coin=os.path.join(working_directory,\"coin_640_slices_2023set.zip\")\n",
    "zip_file_group=os.path.join(working_directory,\"rectangles_set_2023_shell.zip\")\n",
    "zip_file_shell=os.path.join(working_directory,\"shell_2022_320.zip\")\n",
    "zip_file_seed=os.path.join(working_directory,\"seed_2022_21102024.zip\")\n",
    "\n",
    "\n",
    "models_directory=\"C:/Users/Pheno/Documents/database_almondcv2/models/\"\n",
    "pre_model=os.path.join(models_directory, \"yolo11s-seg.pt\")\n",
    "\n",
    "coin_model_path=os.path.join(models_directory,\"coin_2023_yolov11s_640.pt\")\n",
    "\n",
    "group_model_path_1=os.path.join(models_directory, \"rectangles_shell_2023_imgsize_1280.pt\")\n",
    "group_model_path_2=os.path.join(models_directory, \"rectangles_seed_2023_imgsz_1600.pt\")\n",
    "group_model_path_2022=\"rectangle_2022_yolov11s_1280.pt\"\n",
    "\n",
    "shell_model_path=os.path.join(models_directory, \"shell_2023_yolov11s_320.pt\")\n",
    "seed_model_path=os.path.join(models_directory, \"seed_2023_yolov11s_320.pt\")\n",
    "#outputs\n",
    "output=\"C:/Users/Pheno/Documents/database_almondcv2\"\n",
    "output_calibrated=os.path.join(output,\"calibrated_pics_2022/\")\n",
    "os.makedirs(output_calibrated, exist_ok=True)"
   ]
  },
  {
   "cell_type": "markdown",
   "metadata": {},
   "source": [
    "## Color and distorsion correction"
   ]
  },
  {
   "cell_type": "code",
   "execution_count": null,
   "metadata": {},
   "outputs": [],
   "source": [
    "# If you need to create distortion model\n",
    "build_calibration(chessboardSize=(6, 8), frameSize=(5472,3648), dir_path=chessboards, \n",
    "                  image_format=\".jpg\", size_of_chessboard_squares_mm=20)"
   ]
  },
  {
   "cell_type": "code",
   "execution_count": null,
   "metadata": {},
   "outputs": [],
   "source": [
    "#Ahora mismo esta puesto en modo calibracion los errores utilizando una foto como referencia, para calibracion normal quitar la standard_matrix_color\n",
    "calibrate_color_and_distortion(raw_folder=raw_folder,mtx_input_path=mtx_input_path,output_calibrated=output_calibrated,\n",
    "                                radius_param=10, standard_matrix=standard_matrix_color)"
   ]
  },
  {
   "cell_type": "code",
   "execution_count": null,
   "metadata": {},
   "outputs": [],
   "source": [
    "#Si solo quieres hacer color esta la función\n",
    "\n",
    "# calibrate_color(input_folder=raw_folder, output_path=output_calibrated,standard_matrix=standard_matrix_color)\n",
    "calibrate_color(input_folder=raw_folder, output_path=output_calibrated,standard_matrix=standard_matrix_color,\n",
    "                 force_standard_matrix=\"Yes\")"
   ]
  },
  {
   "cell_type": "code",
   "execution_count": null,
   "metadata": {},
   "outputs": [],
   "source": [
    "#CHUNK para mover automaticamente lo que este en la lista errores a donde tu queiras\n",
    "#first we move \n",
    "\n",
    "carpeta_destino = os.path.join(raw_folder,\"errores\")    # Cambia esto por la ruta correcta\n",
    "\n",
    "# Crea la carpeta de destino si no existe\n",
    "os.makedirs(carpeta_destino, exist_ok=True)\n",
    "\n",
    "\n",
    "# Lee el archivo de texto con los nombres de las imágenes\n",
    "with open(os.path.join(output_calibrated,\"errors_in_calibrations.txt\"), \"r\") as archivo:\n",
    "    for nombre_imagen in archivo:\n",
    "        nombre_imagen = nombre_imagen.strip()  # Elimina espacios en blanco y saltos de línea\n",
    "        ruta_imagen_origen = os.path.join(raw_folder, nombre_imagen)\n",
    "        \n",
    "        # Verifica si el archivo existe antes de moverlo\n",
    "        if os.path.exists(ruta_imagen_origen):\n",
    "            # Mueve la imagen a la carpeta de destino\n",
    "            shutil.copy(ruta_imagen_origen, carpeta_destino)\n",
    "            print(f\"Moviendo: {nombre_imagen} a {carpeta_destino}\")\n",
    "        else:\n",
    "            print(f\"No se encontró la imagen: {nombre_imagen}\")"
   ]
  },
  {
   "cell_type": "markdown",
   "metadata": {},
   "source": [
    "## Load info data"
   ]
  },
  {
   "cell_type": "code",
   "execution_count": null,
   "metadata": {},
   "outputs": [],
   "source": [
    "#Cargar info_data, se puede cargar ya una columna pixelmetric con la informacion pixel-mm o obtener la metrica pixel desde las imagenes.\n",
    "info_data_df=pd.read_csv(info_data_2022,sep=\"\\t\")\n",
    "# Si las hemos calibrado añadimos CL delante\n",
    "info_data_df['Name_picture'] = info_data_df['Name_picture'].apply(lambda x: 'CL_' + x)\n",
    "info_data_df"
   ]
  },
  {
   "cell_type": "markdown",
   "metadata": {},
   "source": [
    "### Obtain pixel_metric from the pictures"
   ]
  },
  {
   "cell_type": "code",
   "execution_count": null,
   "metadata": {},
   "outputs": [],
   "source": [
    "# Si no tienes un modelo para reconocer tu objeto de referencia debes crearlo\n",
    "#Se comienza haciendo particiones de la imagen con la función slicing para introducirlas en CVAT\n",
    "\n",
    "slicing(input_folder=output_calibrated,output_directory=working_directory,\n",
    "        name_slicing=\"gsgsg\", number_pictures=60,\n",
    "          crop=\"left\", slice_height=640, slice_width=640, overlap_height_ratio=0.2, overlap_width_ratio=0.2, crop_level=2)\n"
   ]
  },
  {
   "cell_type": "code",
   "execution_count": null,
   "metadata": {},
   "outputs": [],
   "source": [
    "# Posteriormente se tiene que segmentar en CVAT, y ese output se leera para entrenar el modelo y ver si funciona bien, para ello utilizamos la función\n",
    "# train model, pon el archivo.zip en el working directory.\n",
    "\n",
    "coin_model=model_segmentation(working_directory=working_directory)\n",
    "coin_model.train_segmentation_model(input_zip=zip_file_coin, epochs=80,imgsz=640,\n",
    "                                     name_segmentation=\"coin_640px_slices640_26102024_set2023_retina\", pre_model=pre_model\n",
    "                                     , batch=16)"
   ]
  },
  {
   "cell_type": "code",
   "execution_count": null,
   "metadata": {},
   "outputs": [],
   "source": [
    "# Si tenemos el modelo ya simplemente podemos cargarlo y aplicarlo sobre la carpeta que queramos\n",
    "\n",
    "coin_model_saved=model_segmentation(working_directory=working_directory)\n",
    "contours_coin=coin_model_saved.slice_predict_reconstruct(input_folder=output_calibrated, imgsz=640,\n",
    "                                                         model_path=coin_model_path, slice_height=640, slice_width=640,\n",
    "                                                         overlap_height_ratio=0.2, overlap_width_ratio=0.2,\n",
    "                                                           retina_mask=True)\n",
    "\n",
    "\n"
   ]
  },
  {
   "cell_type": "code",
   "execution_count": null,
   "metadata": {},
   "outputs": [],
   "source": [
    "info_data_completed=obtain_pixel_metric(info_data=info_data_df, contours=contours_coin,\n",
    "                                         output_directory=working_directory, reference=24.25)"
   ]
  },
  {
   "cell_type": "code",
   "execution_count": null,
   "metadata": {},
   "outputs": [],
   "source": [
    "info_data_completed"
   ]
  },
  {
   "cell_type": "markdown",
   "metadata": {},
   "source": [
    "### Desagrupar imagenes"
   ]
  },
  {
   "cell_type": "code",
   "execution_count": null,
   "metadata": {},
   "outputs": [],
   "source": [
    "# Una vez hemos completado ya el pixelmetric, si tenemos fotos agrupadas, debemos desagruparlas y conectarlas con su ID\n",
    "#Para posteriormente sacar las medidas que queramos. Esta vez no hacemos slicing, peusto que los grupos son mas grandes que las slcies.\n",
    "# divide_in_sets(input_folder=output_calibrated,output_directory=working_directory, division_name=\"rectangle_group_2023\", number_pictures=100)\n",
    "\n",
    "#Esta vez hacemos solo shell\n",
    "folder_shell=os.path.join(working_directory, \"\")\n",
    "divide_in_sets(input_folder=folder_shell,output_directory=working_directory, division_name=\"\", number_pictures=60)"
   ]
  },
  {
   "cell_type": "code",
   "execution_count": null,
   "metadata": {},
   "outputs": [],
   "source": [
    "#Ahora vamos a entrenar un modelo para que reconozca los grupos\n",
    "\n",
    "group_model=model_segmentation(working_directory=working_directory)\n",
    "group_model.train_segmentation_model(input_zip=zip_file_group, epochs=80,imgsz=1280,\n",
    "                                      name_segmentation=\"rectangle_group_2023set_shell\", pre_model=pre_model, batch=6)"
   ]
  },
  {
   "cell_type": "code",
   "execution_count": null,
   "metadata": {},
   "outputs": [],
   "source": [
    "#ESTO DESPUES PARA LOS CONTORNOS EN GROUPED PICTURES\n",
    "\n",
    "# Si tenemos el modelo ya simplemente podemos cargarlo y aplicarlo sobre la carpeta que queramos\n",
    "#Esta funcion se puede optimizar, cuando hay muchas fotos se llena la RAM y va mas lento a partir de las 300 fotos.Habría que hacer tandas, lo que lo peta es la retina mask. \n",
    "group_model_saved=model_segmentation(working_directory=working_directory)\n",
    "contours_groups=group_model_saved.predict_model(model_path=group_model_path_2,\n",
    "                               folder_input=os.path.join(working_directory, \"ROTAR\"),\n",
    "                               imgsz=1600, check_result=False, max_det=2, retina_mask=False)"
   ]
  },
  {
   "cell_type": "code",
   "execution_count": null,
   "metadata": {},
   "outputs": [],
   "source": [
    "#Ahora que ya tenemos los contornos, podemos aplicarlo a nuestras imagenes, y tambien coordinaar el info_data_df\n",
    "info_data_completed_path=os.path.join(working_directory, \"info_data_completed_2023.txt\")\n",
    "info_data_completed=pd.read_csv(info_data_completed_path,sep=\"\\t\")\n",
    "#PARA QUE FUNCIONE EN 2023 EDITAR EL INFO DATA EN donde pone Sample number cambiar los 0 por 1.\n",
    "info_data_completed.loc[info_data_completed['Sample_number'] == 0, 'Sample_number'] = 1\n",
    "\n",
    "\n",
    "ungroup_pic(input_contours=contours_groups, output_path=working_directory, info_file=info_data_completed, axis=\"Y\")"
   ]
  },
  {
   "cell_type": "markdown",
   "metadata": {},
   "source": [
    "## Measuring"
   ]
  },
  {
   "cell_type": "markdown",
   "metadata": {},
   "source": [
    "### Shell Almonds"
   ]
  },
  {
   "cell_type": "code",
   "execution_count": null,
   "metadata": {},
   "outputs": [],
   "source": [
    "#Vamos a entrenar un modelo para las almendras con cascara\n",
    "#Vamos a separar en una carpeta las imagenes de almendras con cascara\n",
    "info_data_df=pd.read_csv(f\"{working_directory}/info_data_completed_ungrouped.txt\", sep=\"\\t\")\n",
    "info_data_df = info_data_df[info_data_df[\"Shell\"] == \"Yes\"]\n",
    "\n",
    "# Directorio donde están las imágenes\n",
    "directorio_imagenes = f\"{working_directory}/Ungrouped_pics\"  # Cambia esto por la ruta correcta\n",
    "# Directorio de destino donde copiarás las imágenes\n",
    "directorio_destino = f\"{working_directory}/Shell_ungrouped_pics\"\n",
    "\n",
    "# Crear el directorio de destino si no existe\n",
    "os.makedirs(directorio_destino, exist_ok=True)\n",
    "\n",
    "# Copiar las imágenes\n",
    "for index, row in info_data_df.iterrows():\n",
    "    imagen_relativa = row['Sample_picture']  # Obtener la ruta relativa de la imagen\n",
    "    imagen_path = os.path.join(directorio_imagenes, imagen_relativa)  # Ruta completa\n",
    "\n",
    "    try:\n",
    "        # Copiar la imagen al directorio de destino\n",
    "        shutil.copy(imagen_path, os.path.join(directorio_destino, os.path.basename(imagen_path)))\n",
    "        print(f\"Imagen copiada: {imagen_path} a {directorio_destino}\")\n",
    "    except Exception as e:\n",
    "        print(f\"No se pudo copiar la imagen {imagen_path}. Error: {e}\")"
   ]
  },
  {
   "cell_type": "code",
   "execution_count": null,
   "metadata": {},
   "outputs": [],
   "source": [
    "#Bien ahora vamos a hacer el slicing y a segmentar y etiquetar las imagenes\n",
    "\n",
    "directorio_imagenes=os.path.join(working_directory, \"Ungrouped_pics_shell_2023\")\n",
    "\n",
    "\n",
    "slicing(input_folder=directorio_imagenes,output_directory=working_directory,name_slicing=\"Slices_for_shell_2023_29102024_320\", number_pictures=50, slice_height=320, slice_width=320)"
   ]
  },
  {
   "cell_type": "code",
   "execution_count": null,
   "metadata": {},
   "outputs": [],
   "source": [
    "#Ahora vamos a entrenar el modelo \n",
    "\n",
    "shell_model=model_segmentation(working_directory=working_directory)\n",
    "shell_model.train_segmentation_model(input_zip=zip_file_shell, epochs=100,imgsz=640, name_segmentation=\"shell_2022_yolov11\",\n",
    "                                      pre_model=pre_model, batch=16)\n"
   ]
  },
  {
   "cell_type": "code",
   "execution_count": null,
   "metadata": {},
   "outputs": [],
   "source": [
    "#Ahora podemos utilizar ya el modelo y la clase picture para obtener todas las medidas\n",
    "#Con watershed\n",
    "\n",
    "\n",
    "info_data_df=pd.read_csv(f\"{working_directory}/info_data_completed_ungrouped_shell2023.txt\", sep=\"\\t\")\n",
    "info_data_df = info_data_df[info_data_df[\"Shell\"] == \"Yes\"]\n",
    "input_folder=os.path.join(working_directory, \"Ungrouped_pics_shell_2023_parte2\")\n",
    "shell_masks=model_segmentation(working_directory=working_directory)\n",
    "\n",
    "shell_masks=shell_masks.slice_predict_reconstruct(input_folder=input_folder,imgsz=320, model_path=shell_model_path,\n",
    "                                          slice_height=320, slice_width=320,overlap_height_ratio=0.2,\n",
    "                                          overlap_width_ratio=0.2)\n",
    "shell_object=pictures(working_directory=working_directory, input_folder=input_folder,info_file=info_data_df,\n",
    "                      fruit=\"Shell_almond\", binary_masks=True, project_name=\"Shell_2023_10122024_watershed_parte2\")\n",
    "shell_object.set_postsegmentation_parameters(sahi=False, segmentation_input=shell_masks, smoothing=True, smoothing_iterations=2, kernel_smoothing=3,\n",
    "                        watershed=True, kernel_watershed=5, threshold_watershed=0.6)\n",
    "shell_object.measure_almonds(margin=400)"
   ]
  },
  {
   "cell_type": "code",
   "execution_count": null,
   "metadata": {},
   "outputs": [],
   "source": [
    "#Ahora podemos utilizar ya el modelo y la clase picture para obtener todas las medidas\n",
    "#Con sahi\n",
    "\n",
    "info_data_df=pd.read_csv(f\"{working_directory}/info_data_completed_ungrouped_2022.txt\", sep=\"\\t\")\n",
    "info_data_df = info_data_df[info_data_df[\"Shell\"] == \"Yes\"]\n",
    "input_folder=os.path.join(working_directory, \"fotos_prueba\")\n",
    "shell_masks=model_segmentation(working_directory=working_directory)\n",
    "shell_masks=shell_masks.predict_model_sahi(model_path=shell_model_path, check_result=False, folder_input=input_folder,\n",
    "                                            retina_masks=True,\n",
    "                                              postprocess_match_threshold=0.0001, overlap_height_ratio=0.2,\n",
    "                                                overlap_width_ratio=0.2, postprocess_match_metric=\"IOS\", \n",
    "                                                postprocess_type=\"NMM\", slice_height=320, slice_width=320,\n",
    "                                                  confidence_treshold=0.95,\n",
    "                                                  imgsz=320)\n",
    "shell_object=pictures(working_directory=working_directory, input_folder=input_folder,info_file=info_data_df,\n",
    "                      fruit=\"Shell_almond\", binary_masks=True, project_name=\"Shell_2022_09122024_sahi_parte2\")\n",
    "shell_object.set_postsegmentation_parameters(sahi=True, segmentation_input=shell_masks)\n",
    "shell_object.measure_almonds(margin=400)\n"
   ]
  },
  {
   "cell_type": "code",
   "execution_count": null,
   "metadata": {},
   "outputs": [],
   "source": [
    "#si queremos borrar ourliers y errores\n",
    "outlier_f=f\"{working_directory}/Results_Shell_2023_10122024_watershed_parte2/outlier_table.txt\"\n",
    "shell_object.correct_outliers(outlier_file=outlier_f)"
   ]
  },
  {
   "cell_type": "markdown",
   "metadata": {},
   "source": [
    "### Seed Almonds"
   ]
  },
  {
   "cell_type": "code",
   "execution_count": null,
   "metadata": {},
   "outputs": [],
   "source": [
    "#Vamos a entrenar un modelo para las almendras sin cascara\n",
    "#Vamos a separar en una carpeta las imagenes de almendras sin cascara\n",
    "info_data_df=pd.read_csv(f\"{working_directory}/info_data_completed_ungrouped.txt\", sep=\"\\t\")\n",
    "info_data_df = info_data_df[info_data_df[\"Shell\"] == \"No\"]\n",
    "\n",
    "# Directorio donde están las imágenes\n",
    "directorio_imagenes = f\"{working_directory}/Ungrouped_pics\"  # Cambia esto por la ruta correcta\n",
    "# Directorio de destino donde copiarás las imágenes\n",
    "directorio_destino = f\"{working_directory}/Seed_ungrouped_pics\"\n",
    "\n",
    "# Crear el directorio de destino si no existe\n",
    "os.makedirs(directorio_destino, exist_ok=True)\n",
    "\n",
    "# Copiar las imágenes\n",
    "for index, row in info_data_df.iterrows():\n",
    "    imagen_relativa = row['Sample_picture']  # Obtener la ruta relativa de la imagen\n",
    "    imagen_path = os.path.join(directorio_imagenes, imagen_relativa)  # Ruta completa\n",
    "\n",
    "    try:\n",
    "        # Copiar la imagen al directorio de destino\n",
    "        shutil.copy(imagen_path, os.path.join(directorio_destino, os.path.basename(imagen_path)))\n",
    "        print(f\"Imagen copiada: {imagen_path} a {directorio_destino}\")\n",
    "    except Exception as e:\n",
    "        print(f\"No se pudo copiar la imagen {imagen_path}. Error: {e}\")"
   ]
  },
  {
   "cell_type": "code",
   "execution_count": null,
   "metadata": {},
   "outputs": [],
   "source": [
    "slicing(input_folder=directorio_destino,output_directory=working_directory,name_slicing=\"Slices_for_seed_21102024_320\", number_pictures=30, slice_height=320, slice_width=320)"
   ]
  },
  {
   "cell_type": "code",
   "execution_count": null,
   "metadata": {},
   "outputs": [],
   "source": [
    "seed_model=model_segmentation(working_directory=working_directory)\n",
    "seed_model.train_segmentation_model(input_zip=zip_file_seed, epochs=100,imgsz=640, name_segmentation=\"seed_2022_211024\",\n",
    "                                      pre_model=pre_model, batch=16)"
   ]
  },
  {
   "cell_type": "code",
   "execution_count": null,
   "metadata": {},
   "outputs": [],
   "source": [
    "#Ahora podemos utilizar ya el modelo y la clase picture para obtener todas las medidas\n",
    "#Con watershed\n",
    "\n",
    "\n",
    "info_data_df=pd.read_csv(f\"{working_directory}/info_data_completed_ungrouped_seed2023.txt\", sep=\"\\t\")\n",
    "info_data_df = info_data_df[info_data_df[\"Shell\"] == \"No\"]\n",
    "input_folder=os.path.join(working_directory, \"Ungrouped_clean_seed_2023\")\n",
    "seed_masks=model_segmentation(working_directory=working_directory)\n",
    "\n",
    "seed_masks=seed_masks.slice_predict_reconstruct(input_folder=input_folder,imgsz=320, model_path=seed_model_path,\n",
    "                                          slice_height=320, slice_width=320,overlap_height_ratio=0.2,\n",
    "                                          overlap_width_ratio=0.2)\n",
    "seed_object=pictures(working_directory=working_directory, input_folder=input_folder,info_file=info_data_df,\n",
    "                      fruit=\"Seed_almond\", binary_masks=True, project_name=\"Seed_2023_10122024_watershed\")\n",
    "seed_object.set_postsegmentation_parameters(sahi=False, segmentation_input=seed_masks, smoothing=True, smoothing_iterations=2, kernel_smoothing=3,\n",
    "                        watershed=True, kernel_watershed=5, threshold_watershed=0.6)\n",
    "seed_object.measure_almonds(margin=150)"
   ]
  },
  {
   "cell_type": "code",
   "execution_count": null,
   "metadata": {},
   "outputs": [],
   "source": [
    "#si queremos borrar ourliers y errores\n",
    "outlier_f=f\"{working_directory}/Results_Seed_2023_10122024_watershed/outlier_table.txt\"\n",
    "seed_object.correct_outliers(outlier_file=outlier_f)"
   ]
  },
  {
   "cell_type": "code",
   "execution_count": null,
   "metadata": {},
   "outputs": [],
   "source": [
    "#Ahora podemos utilizar ya el modelo y la clase picture para obtener todas las medidas\n",
    "#Con sahi\n",
    "\n",
    "info_data_df=pd.read_csv(f\"{working_directory}/info_data_completed_ungrouped_2022.txt\", sep=\"\\t\")\n",
    "info_data_df = info_data_df[info_data_df[\"Shell\"] == \"No\"]\n",
    "input_folder=os.path.join(working_directory, \"fotos_prueba_seed_2022\")\n",
    "seed_masks=model_segmentation(working_directory=working_directory)\n",
    "seed_masks=seed_masks.predict_model_sahi(model_path=seed_model_path, check_result=False, folder_input=input_folder,\n",
    "                                            retina_masks=True,\n",
    "                                              postprocess_match_threshold=0.2, overlap_height_ratio=0.3,\n",
    "                                                overlap_width_ratio=0.3, postprocess_match_metric=\"IOS\", \n",
    "                                                postprocess_type=\"GREEDYNMM\", slice_height=320, slice_width=320,\n",
    "                                                  confidence_treshold=0.95,\n",
    "                                                  imgsz=320)\n",
    "seed_object=pictures(working_directory=working_directory, input_folder=input_folder,info_file=info_data_df,\n",
    "                      fruit=\"Seed_almond\", binary_masks=False, project_name=\"seed_2022_congreso_frutadehueso\")\n",
    "seed_object.set_postsegmentation_parameters(sahi=True, segmentation_input=seed_masks)\n",
    "seed_object.measure_almonds()"
   ]
  },
  {
   "cell_type": "markdown",
   "metadata": {},
   "source": [
    "## Morphometrics"
   ]
  },
  {
   "cell_type": "code",
   "execution_count": 25,
   "metadata": {},
   "outputs": [],
   "source": [
    "# input_masks=r\"C:\\Users\\Pheno\\Documents\\database_almondcv2\\Results_Seed_2022_10122024_watershed\\binary_masks\"\n",
    "input_masks=r\"C:\\Users\\Pheno\\Downloads\\Images (1)\\Images\\ReSized\"\n",
    "\n",
    "# info_data_masks=r\"C:\\Users\\Pheno\\Documents\\database_almondcv2\\Results_Shell_2022_09122024_watershed\\binary_masks_info_table.txt\""
   ]
  },
  {
   "cell_type": "markdown",
   "metadata": {},
   "source": [
    "### Momocs"
   ]
  },
  {
   "cell_type": "code",
   "execution_count": null,
   "metadata": {},
   "outputs": [],
   "source": [
    "# Primero hay que ejecutar un script para instalar las librerías necesarias\n",
    "install_morphometrics_packages_r()"
   ]
  },
  {
   "cell_type": "code",
   "execution_count": null,
   "metadata": {},
   "outputs": [],
   "source": [
    "# #Analisis exploratorio para decidir nharmonics\n",
    "# exploratory_morphometrics_r(info_data=info_data_masks, grouping_factor=\"\", directorio_input=input_masks,\n",
    "#                              output_directory=working_directory, show=True, nharmonics=10,nexamples=2)\n",
    "\n",
    "exploratory_morphometrics_r(info_data=\"\", grouping_factor=\"\", directorio_input=input_masks,\n",
    "                             output_directory=working_directory, show=True, nharmonics=10,nexamples=2)"
   ]
  },
  {
   "cell_type": "code",
   "execution_count": 18,
   "metadata": {},
   "outputs": [
    {
     "name": "stdout",
     "output_type": "stream",
     "text": [
      "Salida del comando R:\n",
      "null device \n",
      "          1 \n",
      "null device \n",
      "          1 \n",
      "\n",
      "Error:\n",
      "\n",
      "Adjuntando el paquete: 'Momocs'\n",
      "\n",
      "The following object is masked from 'package:stats':\n",
      "\n",
      "    filter\n",
      "\n",
      "Aviso:\n",
      "package 'Momocs' was built under R version 4.4.2 \n",
      "\n"
     ]
    },
    {
     "data": {
      "image/png": "[encoded data removed]",
      "text/plain": [
       "<Figure size 640x480 with 1 Axes>"
      ]
     },
     "metadata": {},
     "output_type": "display_data"
    }
   ],
   "source": [
    "ruta=os.path.join(working_directory,\"exploratory_plots\",\"outlines_objects.rds\")\n",
    "run_efourier_pca_morphometrics_r(ruta_outline_objects=ruta, nharmonics=10, output_directory=working_directory,\n",
    "                                  show=True, normalize=\"TRUE\")"
   ]
  },
  {
   "cell_type": "code",
   "execution_count": 19,
   "metadata": {},
   "outputs": [
    {
     "name": "stdout",
     "output_type": "stream",
     "text": [
      "Salida del comando R:\n",
      "null device \n",
      "          1 \n",
      "\n",
      "Error:\n",
      "\n",
      "Adjuntando el paquete: 'Momocs'\n",
      "\n",
      "The following object is masked from 'package:stats':\n",
      "\n",
      "    filter\n",
      "\n",
      "Aviso:\n",
      "package 'Momocs' was built under R version 4.4.2 \n",
      "\n"
     ]
    },
    {
     "data": {
      "image/png": "[encoded data removed]",
      "text/plain": [
       "<Figure size 640x480 with 1 Axes>"
      ]
     },
     "metadata": {},
     "output_type": "display_data"
    }
   ],
   "source": [
    "ruta=os.path.join(working_directory,\"efourier_results\",\"pca_fourier.rds\")\n",
    "# run_plot_pca_morphometrics_r(ruta_pca_objects=ruta, output_directory=working_directory, grouping_factor=\"ID\", chull_layer=\"TRUE\", chullfilled_layer=\"TRUE\")\n",
    "run_plot_pca_morphometrics_r(ruta_pca_objects=ruta, output_directory=working_directory, PC_axis1=\"1\", PC_axis2=\"3\")"
   ]
  },
  {
   "cell_type": "code",
   "execution_count": 24,
   "metadata": {},
   "outputs": [
    {
     "ename": "KeyboardInterrupt",
     "evalue": "",
     "output_type": "error",
     "traceback": [
      "\u001b[1;31m---------------------------------------------------------------------------\u001b[0m",
      "\u001b[1;31mKeyboardInterrupt\u001b[0m                         Traceback (most recent call last)",
      "Cell \u001b[1;32mIn[24], line 2\u001b[0m\n\u001b[0;32m      1\u001b[0m ruta\u001b[38;5;241m=\u001b[39mos\u001b[38;5;241m.\u001b[39mpath\u001b[38;5;241m.\u001b[39mjoin(working_directory,\u001b[38;5;124m\"\u001b[39m\u001b[38;5;124mefourier_results\u001b[39m\u001b[38;5;124m\"\u001b[39m,\u001b[38;5;124m\"\u001b[39m\u001b[38;5;124mpca_fourier.rds\u001b[39m\u001b[38;5;124m\"\u001b[39m)\n\u001b[1;32m----> 2\u001b[0m \u001b[43mrun_kmeans_efourier_r\u001b[49m\u001b[43m(\u001b[49m\u001b[43mruta_pca_objects\u001b[49m\u001b[38;5;241;43m=\u001b[39;49m\u001b[43mruta\u001b[49m\u001b[43m,\u001b[49m\u001b[43m \u001b[49m\u001b[43moutput_directory\u001b[49m\u001b[38;5;241;43m=\u001b[39;49m\u001b[43mworking_directory\u001b[49m\u001b[43m,\u001b[49m\u001b[43mmax_clusters\u001b[49m\u001b[38;5;241;43m=\u001b[39;49m\u001b[38;5;241;43m5\u001b[39;49m\u001b[43m)\u001b[49m\n",
      "File \u001b[1;32mc:\\Users\\Pheno\\OneDrive - UNIVERSIDAD DE MURCIA\\Escritorio\\Almond_CV\\almondcv2\\morphometrics_functions.py:318\u001b[0m, in \u001b[0;36mrun_kmeans_efourier_r\u001b[1;34m(ruta_pca_objects, output_directory, max_clusters, img_width_pca, img_height_pca, plot_xlim, plot_ylim, show)\u001b[0m\n\u001b[0;32m    316\u001b[0m \u001b[38;5;66;03m# Ejecutar el comando con subprocess\u001b[39;00m\n\u001b[0;32m    317\u001b[0m \u001b[38;5;28;01mtry\u001b[39;00m:\n\u001b[1;32m--> 318\u001b[0m     result \u001b[38;5;241m=\u001b[39m \u001b[43msubprocess\u001b[49m\u001b[38;5;241;43m.\u001b[39;49m\u001b[43mrun\u001b[49m\u001b[43m(\u001b[49m\u001b[43mcommand\u001b[49m\u001b[43m,\u001b[49m\u001b[43m \u001b[49m\u001b[43mcapture_output\u001b[49m\u001b[38;5;241;43m=\u001b[39;49m\u001b[38;5;28;43;01mTrue\u001b[39;49;00m\u001b[43m,\u001b[49m\u001b[43m \u001b[49m\u001b[43mtext\u001b[49m\u001b[38;5;241;43m=\u001b[39;49m\u001b[38;5;28;43;01mTrue\u001b[39;49;00m\u001b[43m,\u001b[49m\u001b[43m \u001b[49m\u001b[43mcheck\u001b[49m\u001b[38;5;241;43m=\u001b[39;49m\u001b[38;5;28;43;01mTrue\u001b[39;49;00m\u001b[43m)\u001b[49m\n\u001b[0;32m    320\u001b[0m     \u001b[38;5;66;03m# Mostrar la salida del comando R\u001b[39;00m\n\u001b[0;32m    321\u001b[0m     \u001b[38;5;28mprint\u001b[39m(\u001b[38;5;124m\"\u001b[39m\u001b[38;5;124mSalida del comando R:\u001b[39m\u001b[38;5;124m\"\u001b[39m)\n",
      "File \u001b[1;32mc:\\Users\\Pheno\\AppData\\Local\\Programs\\Python\\Python312\\Lib\\subprocess.py:550\u001b[0m, in \u001b[0;36mrun\u001b[1;34m(input, capture_output, timeout, check, *popenargs, **kwargs)\u001b[0m\n\u001b[0;32m    548\u001b[0m \u001b[38;5;28;01mwith\u001b[39;00m Popen(\u001b[38;5;241m*\u001b[39mpopenargs, \u001b[38;5;241m*\u001b[39m\u001b[38;5;241m*\u001b[39mkwargs) \u001b[38;5;28;01mas\u001b[39;00m process:\n\u001b[0;32m    549\u001b[0m     \u001b[38;5;28;01mtry\u001b[39;00m:\n\u001b[1;32m--> 550\u001b[0m         stdout, stderr \u001b[38;5;241m=\u001b[39m \u001b[43mprocess\u001b[49m\u001b[38;5;241;43m.\u001b[39;49m\u001b[43mcommunicate\u001b[49m\u001b[43m(\u001b[49m\u001b[38;5;28;43minput\u001b[39;49m\u001b[43m,\u001b[49m\u001b[43m \u001b[49m\u001b[43mtimeout\u001b[49m\u001b[38;5;241;43m=\u001b[39;49m\u001b[43mtimeout\u001b[49m\u001b[43m)\u001b[49m\n\u001b[0;32m    551\u001b[0m     \u001b[38;5;28;01mexcept\u001b[39;00m TimeoutExpired \u001b[38;5;28;01mas\u001b[39;00m exc:\n\u001b[0;32m    552\u001b[0m         process\u001b[38;5;241m.\u001b[39mkill()\n",
      "File \u001b[1;32mc:\\Users\\Pheno\\AppData\\Local\\Programs\\Python\\Python312\\Lib\\subprocess.py:1209\u001b[0m, in \u001b[0;36mPopen.communicate\u001b[1;34m(self, input, timeout)\u001b[0m\n\u001b[0;32m   1206\u001b[0m     endtime \u001b[38;5;241m=\u001b[39m \u001b[38;5;28;01mNone\u001b[39;00m\n\u001b[0;32m   1208\u001b[0m \u001b[38;5;28;01mtry\u001b[39;00m:\n\u001b[1;32m-> 1209\u001b[0m     stdout, stderr \u001b[38;5;241m=\u001b[39m \u001b[38;5;28;43mself\u001b[39;49m\u001b[38;5;241;43m.\u001b[39;49m\u001b[43m_communicate\u001b[49m\u001b[43m(\u001b[49m\u001b[38;5;28;43minput\u001b[39;49m\u001b[43m,\u001b[49m\u001b[43m \u001b[49m\u001b[43mendtime\u001b[49m\u001b[43m,\u001b[49m\u001b[43m \u001b[49m\u001b[43mtimeout\u001b[49m\u001b[43m)\u001b[49m\n\u001b[0;32m   1210\u001b[0m \u001b[38;5;28;01mexcept\u001b[39;00m \u001b[38;5;167;01mKeyboardInterrupt\u001b[39;00m:\n\u001b[0;32m   1211\u001b[0m     \u001b[38;5;66;03m# https://bugs.python.org/issue25942\u001b[39;00m\n\u001b[0;32m   1212\u001b[0m     \u001b[38;5;66;03m# See the detailed comment in .wait().\u001b[39;00m\n\u001b[0;32m   1213\u001b[0m     \u001b[38;5;28;01mif\u001b[39;00m timeout \u001b[38;5;129;01mis\u001b[39;00m \u001b[38;5;129;01mnot\u001b[39;00m \u001b[38;5;28;01mNone\u001b[39;00m:\n",
      "File \u001b[1;32mc:\\Users\\Pheno\\AppData\\Local\\Programs\\Python\\Python312\\Lib\\subprocess.py:1626\u001b[0m, in \u001b[0;36mPopen._communicate\u001b[1;34m(self, input, endtime, orig_timeout)\u001b[0m\n\u001b[0;32m   1622\u001b[0m \u001b[38;5;66;03m# Wait for the reader threads, or time out.  If we time out, the\u001b[39;00m\n\u001b[0;32m   1623\u001b[0m \u001b[38;5;66;03m# threads remain reading and the fds left open in case the user\u001b[39;00m\n\u001b[0;32m   1624\u001b[0m \u001b[38;5;66;03m# calls communicate again.\u001b[39;00m\n\u001b[0;32m   1625\u001b[0m \u001b[38;5;28;01mif\u001b[39;00m \u001b[38;5;28mself\u001b[39m\u001b[38;5;241m.\u001b[39mstdout \u001b[38;5;129;01mis\u001b[39;00m \u001b[38;5;129;01mnot\u001b[39;00m \u001b[38;5;28;01mNone\u001b[39;00m:\n\u001b[1;32m-> 1626\u001b[0m     \u001b[38;5;28;43mself\u001b[39;49m\u001b[38;5;241;43m.\u001b[39;49m\u001b[43mstdout_thread\u001b[49m\u001b[38;5;241;43m.\u001b[39;49m\u001b[43mjoin\u001b[49m\u001b[43m(\u001b[49m\u001b[38;5;28;43mself\u001b[39;49m\u001b[38;5;241;43m.\u001b[39;49m\u001b[43m_remaining_time\u001b[49m\u001b[43m(\u001b[49m\u001b[43mendtime\u001b[49m\u001b[43m)\u001b[49m\u001b[43m)\u001b[49m\n\u001b[0;32m   1627\u001b[0m     \u001b[38;5;28;01mif\u001b[39;00m \u001b[38;5;28mself\u001b[39m\u001b[38;5;241m.\u001b[39mstdout_thread\u001b[38;5;241m.\u001b[39mis_alive():\n\u001b[0;32m   1628\u001b[0m         \u001b[38;5;28;01mraise\u001b[39;00m TimeoutExpired(\u001b[38;5;28mself\u001b[39m\u001b[38;5;241m.\u001b[39margs, orig_timeout)\n",
      "File \u001b[1;32mc:\\Users\\Pheno\\AppData\\Local\\Programs\\Python\\Python312\\Lib\\threading.py:1147\u001b[0m, in \u001b[0;36mThread.join\u001b[1;34m(self, timeout)\u001b[0m\n\u001b[0;32m   1144\u001b[0m     \u001b[38;5;28;01mraise\u001b[39;00m \u001b[38;5;167;01mRuntimeError\u001b[39;00m(\u001b[38;5;124m\"\u001b[39m\u001b[38;5;124mcannot join current thread\u001b[39m\u001b[38;5;124m\"\u001b[39m)\n\u001b[0;32m   1146\u001b[0m \u001b[38;5;28;01mif\u001b[39;00m timeout \u001b[38;5;129;01mis\u001b[39;00m \u001b[38;5;28;01mNone\u001b[39;00m:\n\u001b[1;32m-> 1147\u001b[0m     \u001b[38;5;28;43mself\u001b[39;49m\u001b[38;5;241;43m.\u001b[39;49m\u001b[43m_wait_for_tstate_lock\u001b[49m\u001b[43m(\u001b[49m\u001b[43m)\u001b[49m\n\u001b[0;32m   1148\u001b[0m \u001b[38;5;28;01melse\u001b[39;00m:\n\u001b[0;32m   1149\u001b[0m     \u001b[38;5;66;03m# the behavior of a negative timeout isn't documented, but\u001b[39;00m\n\u001b[0;32m   1150\u001b[0m     \u001b[38;5;66;03m# historically .join(timeout=x) for x<0 has acted as if timeout=0\u001b[39;00m\n\u001b[0;32m   1151\u001b[0m     \u001b[38;5;28mself\u001b[39m\u001b[38;5;241m.\u001b[39m_wait_for_tstate_lock(timeout\u001b[38;5;241m=\u001b[39m\u001b[38;5;28mmax\u001b[39m(timeout, \u001b[38;5;241m0\u001b[39m))\n",
      "File \u001b[1;32mc:\\Users\\Pheno\\AppData\\Local\\Programs\\Python\\Python312\\Lib\\threading.py:1167\u001b[0m, in \u001b[0;36mThread._wait_for_tstate_lock\u001b[1;34m(self, block, timeout)\u001b[0m\n\u001b[0;32m   1164\u001b[0m     \u001b[38;5;28;01mreturn\u001b[39;00m\n\u001b[0;32m   1166\u001b[0m \u001b[38;5;28;01mtry\u001b[39;00m:\n\u001b[1;32m-> 1167\u001b[0m     \u001b[38;5;28;01mif\u001b[39;00m \u001b[43mlock\u001b[49m\u001b[38;5;241;43m.\u001b[39;49m\u001b[43macquire\u001b[49m\u001b[43m(\u001b[49m\u001b[43mblock\u001b[49m\u001b[43m,\u001b[49m\u001b[43m \u001b[49m\u001b[43mtimeout\u001b[49m\u001b[43m)\u001b[49m:\n\u001b[0;32m   1168\u001b[0m         lock\u001b[38;5;241m.\u001b[39mrelease()\n\u001b[0;32m   1169\u001b[0m         \u001b[38;5;28mself\u001b[39m\u001b[38;5;241m.\u001b[39m_stop()\n",
      "\u001b[1;31mKeyboardInterrupt\u001b[0m: "
     ]
    }
   ],
   "source": [
    "ruta=os.path.join(working_directory,\"efourier_results\",\"pca_fourier.rds\")\n",
    "run_kmeans_efourier_r(ruta_pca_objects=ruta, output_directory=working_directory,max_clusters=5)"
   ]
  },
  {
   "cell_type": "code",
   "execution_count": 14,
   "metadata": {},
   "outputs": [
    {
     "name": "stdout",
     "output_type": "stream",
     "text": [
      "Error al ejecutar el script R: \n",
      "Adjuntando el paquete: 'Momocs'\n",
      "\n",
      "The following object is masked from 'package:stats':\n",
      "\n",
      "    filter\n",
      "\n",
      "Aviso:\n",
      "package 'Momocs' was built under R version 4.4.2 \n",
      "\n",
      "Adjuntando el paquete: 'dplyr'\n",
      "\n",
      "The following objects are masked from 'package:Momocs':\n",
      "\n",
      "    arrange, combine, filter, mutate, rename, sample_frac, sample_n,\n",
      "    select, slice\n",
      "\n",
      "The following objects are masked from 'package:stats':\n",
      "\n",
      "    filter, lag\n",
      "\n",
      "The following objects are masked from 'package:base':\n",
      "\n",
      "    intersect, setdiff, setequal, union\n",
      "\n",
      "Aviso:\n",
      "package 'dplyr' was built under R version 4.4.2 \n",
      "Error in `left_join()`:\n",
      "! Join columns in `x` must be present in the data.\n",
      "âœ– Problem with `Binary_mask_picture`.\n",
      "Backtrace:\n",
      "    â–†\n",
      " 1. â”œâ”€pca_fourier$fac %>% left_join(cluster_df, by = \"Binary_mask_picture\")\n",
      " 2. â”œâ”€dplyr::left_join(., cluster_df, by = \"Binary_mask_picture\")\n",
      " 3. â””â”€dplyr:::left_join.data.frame(., cluster_df, by = \"Binary_mask_picture\")\n",
      " 4.   â””â”€dplyr:::join_mutate(...)\n",
      " 5.     â””â”€dplyr:::join_cols(...)\n",
      " 6.       â””â”€dplyr:::check_join_vars(by$x, x_names, by$condition, \"x\", error_call = error_call)\n",
      " 7.         â””â”€rlang::abort(bullets, call = error_call)\n",
      "EjecuciÃ³n interrumpida\n",
      "\n"
     ]
    }
   ],
   "source": [
    "ruta_1=os.path.join(working_directory,\"efourier_results\",\"pca_fourier.rds\")\n",
    "ruta_2=os.path.join(working_directory,\"kmeans_results\",\"kmeans_pca_fourier_5.rds\")\n",
    "run_obtain_kmeans_classification_r(ruta_pca_objects=ruta_1, output_directory=working_directory, ruta_kmeans_objects=ruta_2,\n",
    "                                   chull_layer=\"TRUE\", chullfilled_layer=\"TRUE\")"
   ]
  },
  {
   "cell_type": "markdown",
   "metadata": {},
   "source": [
    "## SUCIO"
   ]
  },
  {
   "cell_type": "code",
   "execution_count": null,
   "metadata": {},
   "outputs": [],
   "source": [
    "#ROTAR \n",
    "\n",
    "from PIL import Image\n",
    "import os\n",
    "\n",
    "# Ruta de la carpeta con las imágenes\n",
    "folder_path = output_calibrated\n",
    "\n",
    "# Recorrer cada archivo en la carpeta\n",
    "for filename in os.listdir(folder_path):\n",
    "    if filename.endswith(('.png', '.jpg', '.jpeg', '.bmp', '.tiff')):  # Filtrar solo archivos de imagen\n",
    "        # Ruta completa del archivo\n",
    "        img_path = os.path.join(folder_path, filename)\n",
    "        \n",
    "        # Abrir la imagen\n",
    "        with Image.open(img_path) as img:\n",
    "            # Rotar la imagen 90 grados en sentido contrario a las agujas del reloj\n",
    "            rotated_img = img.rotate(90, expand=True)\n",
    "            \n",
    "            # Sobrescribir la imagen rotada en la misma ubicación\n",
    "            rotated_img.save(img_path)\n",
    "\n",
    "print(\"Rotación y guardado completados.\")"
   ]
  },
  {
   "cell_type": "code",
   "execution_count": null,
   "metadata": {},
   "outputs": [],
   "source": [
    "#Quiero separar en dos carpetas shell y no shell\n",
    "\n",
    "import pandas as pd\n",
    "import shutil\n",
    "import os\n",
    "\n",
    "# Cargar el DataFrame (asegúrate de cambiar 'ruta_al_archivo' por la ruta de tu archivo)\n",
    "df = pd.read_csv(info_data,sep=\"\\t\")\n",
    "\n",
    "# Definir las carpetas de origen y destino\n",
    "carpeta_origen = output_calibrated\n",
    "carpeta_destino_yes = os.path.join(working_directory, \"Shell_2023_set\")\n",
    "carpeta_destino_no = os.path.join(working_directory, \"Seed_2023_set\")\n",
    "\n",
    "# Crear las carpetas de destino si no existen\n",
    "os.makedirs(carpeta_destino_yes, exist_ok=True)\n",
    "os.makedirs(carpeta_destino_no, exist_ok=True)\n",
    "\n",
    "# Iterar sobre las filas del DataFrame\n",
    "for index, row in df.iterrows():\n",
    "    nombre_imagen = row['Name_picture']  # Cambia 'NombreImagen' al nombre de la columna en tu DataFrame\n",
    "    shell_value = row['Shell']           # Cambia 'Shell' al nombre exacto de la columna en tu DataFrame\n",
    "    nombre_imagen = f\"CL_{nombre_imagen}\"\n",
    "    # Definir la ruta completa de la imagen en la carpeta de origen\n",
    "    ruta_origen = os.path.join(carpeta_origen, nombre_imagen)\n",
    "    \n",
    "    # Comprobar si el valor de Shell es 'Yes' o 'No' y definir la carpeta de destino\n",
    "    if shell_value == 'Yes':\n",
    "        ruta_destino = os.path.join(carpeta_destino_yes, nombre_imagen)\n",
    "    elif shell_value == 'No':\n",
    "        ruta_destino = os.path.join(carpeta_destino_no, nombre_imagen)\n",
    "    else:\n",
    "        continue  # Saltar filas con otros valores en 'Shell'\n",
    "    \n",
    "    # Copiar la imagen a la carpeta de destino correspondiente\n",
    "    try:\n",
    "        shutil.copy(ruta_origen, ruta_destino)\n",
    "        print(f\"Imagen '{nombre_imagen}' copiada a {ruta_destino}\")\n",
    "    except FileNotFoundError:\n",
    "        print(f\"Imagen '{nombre_imagen}' no encontrada en {ruta_origen}\")\n",
    "\n",
    "print(\"Copia de imágenes completada.\")\n"
   ]
  },
  {
   "cell_type": "code",
   "execution_count": null,
   "metadata": {},
   "outputs": [],
   "source": [
    "#Ahora podemos utilizar ya el modelo y la clase picture para obtener todas las medidas\n",
    "\n",
    "info_data_df=pd.read_csv(f\"{working_directory}/info_data_completed_ungrouped.txt\", sep=\"\\t\")\n",
    "info_data_df = info_data_df[info_data_df[\"Shell\"] == \"Yes\"]\n",
    "input_folder=os.path.join(working_directory, \"fotos_prueba\")\n",
    "shell_model_path=os.path.join(models_directory, \"prueba_Retina_mask_640_shell.pt\")\n",
    "shell_masks=model_segmentation(working_directory=working_directory)\n",
    "shell_masks=shell_masks.slice_predict_reconstruct(input_folder=input_folder,imgsz=640, model_path=shell_model_path,\n",
    "                                          slice_height=640, slice_width=640,overlap_height_ratio=0.2,\n",
    "                                          overlap_width_ratio=0.2, retina_mask=True)\n",
    "shell_object=pictures(working_directory=working_directory, input_folder=input_folder,info_file=info_data_df,\n",
    "                      fruit=\"Shell_almond\", binary_masks=True, project_name=\"pruebas_retina_mask\",\n",
    "                        segmentation_maks=shell_masks, smoothing=False, smoothing_iterations=2, kernel_smoothing=5,\n",
    "                        watershed=False, kernel_watershed=5, threshold_watershed=0.5)\n",
    "shell_object.measure_almonds()"
   ]
  },
  {
   "cell_type": "code",
   "execution_count": null,
   "metadata": {},
   "outputs": [],
   "source": [
    "info_data_df=pd.read_csv(f\"{working_directory}/info_data_completed_ungrouped_2022.txt\", sep=\"\\t\")\n",
    "info_data_df = info_data_df[info_data_df[\"Shell\"] == \"Yes\"]\n",
    "input_folder=os.path.join(working_directory, \"fotos_prueba\")\n",
    "shell_model_path=os.path.join(models_directory, \"prueba_Retina_mask_320_shell.pt\")\n",
    "shell_masks=model_segmentation(working_directory=working_directory)\n",
    "shell_masks=shell_masks.predict_model_sahi(model_path=shell_model_path, check_result=True, folder_input=input_folder,\n",
    "                                            retina_masks=True,\n",
    "                                              postprocess_match_threshold=0.2, overlap_height_ratio=0.3,\n",
    "                                                overlap_width_ratio=0.3, postprocess_match_metric=\"IOS\", \n",
    "                                                postprocess_type=\"GREEDYNMM\", slice_height=320, slice_width=320,\n",
    "                                                  confidence_treshold=0.9,\n",
    "                                                  imgsz=320)\n"
   ]
  },
  {
   "cell_type": "code",
   "execution_count": null,
   "metadata": {},
   "outputs": [],
   "source": [
    "info_data_df=pd.read_csv(f\"{working_directory}/info_data_completed_ungrouped_2022.txt\", sep=\"\\t\")\n",
    "info_data_df = info_data_df[info_data_df[\"Shell\"] == \"Yes\"]\n",
    "input_folder=os.path.join(working_directory, \"fotos_prueba\")\n",
    "shell_model_path=os.path.join(models_directory, \"prueba_Retina_mask_320_shell.pt\")\n",
    "shell_masks=model_segmentation(working_directory=working_directory)\n",
    "shell_masks=shell_masks.predict_model_sahi(model_path=shell_model_path, check_result=True, folder_input=input_folder,\n",
    "                                            retina_masks=True,\n",
    "                                              postprocess_match_threshold=0.3, overlap_height_ratio=0.2,\n",
    "                                                overlap_width_ratio=0.2, postprocess_match_metric=\"IOS\", \n",
    "                                                postprocess_type=\"GREEDYNMM\", slice_height=320, slice_width=320,\n",
    "                                                  confidence_treshold=0.9,\n",
    "                                                  imgsz=320)\n"
   ]
  },
  {
   "cell_type": "code",
   "execution_count": null,
   "metadata": {},
   "outputs": [],
   "source": [
    "shell_masks"
   ]
  },
  {
   "cell_type": "code",
   "execution_count": null,
   "metadata": {},
   "outputs": [],
   "source": [
    "unique_ids_df = info_data_completed[~info_data_completed['ID'].str.lower().duplicated(keep=False)]\n",
    "unique_ids_df"
   ]
  },
  {
   "cell_type": "code",
   "execution_count": null,
   "metadata": {},
   "outputs": [],
   "source": [
    "filtered_df = info_data_completed[info_data_completed['Shell'] == \"No\"]\n",
    "filtered_df"
   ]
  },
  {
   "cell_type": "code",
   "execution_count": null,
   "metadata": {},
   "outputs": [],
   "source": [
    "#SEED MODEL 2023\n",
    "zip_file=os.path.join(working_directory,\"seed_320_2023_29102024.zip\")\n",
    "model=model_segmentation(working_directory=working_directory)\n",
    "model.train_segmentation_model(input_zip=zip_file, epochs=100,imgsz=320,\n",
    "                                name_segmentation=\"seed_2023_320_yolov11\",\n",
    "                                      pre_model=pre_model, batch=16, retina_masks=True)\n",
    "del model"
   ]
  },
  {
   "cell_type": "code",
   "execution_count": null,
   "metadata": {},
   "outputs": [],
   "source": [
    "#Shell MODEL 2023\n",
    "zip_file=os.path.join(working_directory,\"shell_2023_320.zip\")\n",
    "model=model_segmentation(working_directory=working_directory)\n",
    "model.train_segmentation_model(input_zip=zip_file, epochs=100,imgsz=320,\n",
    "                                name_segmentation=\"shell_2023_320_yolov11\",\n",
    "                                      pre_model=pre_model, batch=16, retina_masks=True)\n",
    "del model"
   ]
  },
  {
   "cell_type": "code",
   "execution_count": null,
   "metadata": {},
   "outputs": [],
   "source": [
    "#Seed MODEL 2022\n",
    "zip_file=os.path.join(working_directory,\"seed_2022_21102024.zip\")\n",
    "model=model_segmentation(working_directory=working_directory)\n",
    "model.train_segmentation_model(input_zip=zip_file, epochs=100,imgsz=320,\n",
    "                                name_segmentation=\"seed_2022_320_yolov11\",\n",
    "                                      pre_model=pre_model, batch=16, retina_masks=True)\n",
    "del model"
   ]
  },
  {
   "cell_type": "code",
   "execution_count": null,
   "metadata": {},
   "outputs": [],
   "source": [
    "#Shell MODEL 2022\n",
    "zip_file=os.path.join(working_directory,\"shell_2022_320.zip\")\n",
    "model=model_segmentation(working_directory=working_directory)\n",
    "model.train_segmentation_model(input_zip=zip_file, epochs=100,imgsz=320,\n",
    "                                name_segmentation=\"shell_2022_320_yolov11\",\n",
    "                                      pre_model=pre_model, batch=16, retina_masks=True)\n",
    "del model"
   ]
  },
  {
   "cell_type": "code",
   "execution_count": null,
   "metadata": {},
   "outputs": [],
   "source": [
    "# coin model 2022\n",
    "zip_file=os.path.join(working_directory,\"coin_640_21102024.zip\")\n",
    "model=model_segmentation(working_directory=working_directory)\n",
    "model.train_segmentation_model(input_zip=zip_file, epochs=100,imgsz=640,\n",
    "                                name_segmentation=\"coin_2022_640_yolov11\",\n",
    "                                      pre_model=pre_model, batch=8, retina_masks=True)\n",
    "del model\n"
   ]
  },
  {
   "cell_type": "code",
   "execution_count": null,
   "metadata": {},
   "outputs": [],
   "source": [
    "\n",
    "#Prepare dataset for pose estimation\n",
    "pose_preparation=model_segmentation(working_directory=working_directory)\n",
    "input_folder=os.path.join(working_directory, \"fotos_prueba_2023\")\n",
    "pose_preparation=pose_preparation.predict_model_sahi(model_path=shell_model_path, check_result=False, folder_input=input_folder,\n",
    "                                            retina_masks=True,\n",
    "                                              postprocess_match_threshold=0.2, overlap_height_ratio=0.3,\n",
    "                                                overlap_width_ratio=0.3, postprocess_match_metric=\"IOS\", \n",
    "                                                postprocess_type=\"GREEDYNMM\", slice_height=320, slice_width=320,\n",
    "                                                  confidence_treshold=0.95,\n",
    "                                                 imgsz=320)\n",
    "\n",
    "prepare_pose_dataset(segmentation_input=pose_preparation, output_directory=working_directory, output_name=\"prueba\")\n"
   ]
  },
  {
   "cell_type": "code",
   "execution_count": null,
   "metadata": {},
   "outputs": [],
   "source": [
    "\n",
    "pose_model=model_segmentation(working_directory=working_directory)\n",
    "zip_file_pose=os.path.join(working_directory, \"shell_2023_tip_pose_07112024.zip\")\n",
    "pre_model=os.path.join(models_directory,\"yolo11s-pose.pt\")\n",
    "pose_model.train_segmentation_model(input_zip=zip_file_pose, epochs=100,imgsz=256, name_segmentation=\"shell_2023_yolov11s_pose_2\",\n",
    "                                     pre_model=pre_model, batch=16, pose=True)\n"
   ]
  },
  {
   "cell_type": "code",
   "execution_count": null,
   "metadata": {},
   "outputs": [],
   "source": [
    "import subprocess\n",
    "import matplotlib.pyplot as plt\n",
    "import matplotlib.image as mpimg\n",
    "\n",
    "# Define la ruta donde quieres guardar la imagen\n",
    "ruta_imagen = 'C:/Users/Pheno/Documents/database_almondcv2/grafica.png'\n",
    "\n",
    "# Comando R para generar el gráfico y guardarlo en un archivo PNG\n",
    "command = f\"\"\"\n",
    "Rscript -e \"\n",
    "# Crear un vector de datos\n",
    "x <- c(1, 2, 3, 4, 5)\n",
    "y <- c(1, 4, 9, 16, 25)\n",
    "\n",
    "# Iniciar el dispositivo gráfico PNG y guardar la imagen en la ruta indicada\n",
    "png('{ruta_imagen}')\n",
    "\n",
    "# Crear el gráfico\n",
    "plot(x, y, main='Gráfico de ejemplo', xlab='X', ylab='Y')\n",
    "\n",
    "# Cerrar el dispositivo gráfico\n",
    "dev.off()\n",
    "\"\n",
    "\"\"\"\n",
    "\n",
    "# Ejecutar el comando R usando subprocess\n",
    "result = subprocess.run(command, shell=True, stdout=subprocess.PIPE, stderr=subprocess.PIPE)\n",
    "\n",
    "# Verificar si hubo algún error\n",
    "if result.stderr:\n",
    "    print(\"Error:\", result.stderr.decode())\n",
    "else:\n",
    "    print(\"El script R se ejecutó correctamente.\")\n",
    "\n",
    "    # Leer y mostrar la imagen generada por R en Python\n",
    "    img = mpimg.imread(ruta_imagen)\n",
    "    imgplot = plt.imshow(img)\n",
    "    plt.axis('off')  # Desactivar los ejes si es necesario\n",
    "    plt.show()\n",
    "\n"
   ]
  },
  {
   "cell_type": "code",
   "execution_count": null,
   "metadata": {},
   "outputs": [],
   "source": [
    "import subprocess\n",
    "\n",
    "# Ruta al archivo de script de R\n",
    "ruta_script_r = r'C:\\Users\\Pheno\\prueba.R'\n",
    "\n",
    "# Definir el comando para ejecutar el script de R\n",
    "command = f'Rscript \"{ruta_script_r}\"'\n",
    "\n",
    "# Ejecutar el comando con subprocess\n",
    "try:\n",
    "    result = subprocess.run(command, shell=True, capture_output=True, text=True, check=True)\n",
    "    \n",
    "    # Mostrar la salida del comando R\n",
    "    print(\"Salida del comando R:\")\n",
    "    print(result.stdout)\n",
    "\n",
    "    # Mostrar cualquier error si ocurre\n",
    "    if result.stderr:\n",
    "        print(\"Error:\")\n",
    "        print(result.stderr)\n",
    "\n",
    "except subprocess.CalledProcessError as e:\n",
    "    print(f\"Error al ejecutar el script R: {e.stderr}\")\n"
   ]
  },
  {
   "cell_type": "code",
   "execution_count": null,
   "metadata": {},
   "outputs": [],
   "source": [
    "import subprocess\n",
    "\n",
    "# Ruta al script de R\n",
    "ruta_script_r = \"C:/Users/Pheno/prueba.R\"\n",
    "\n",
    "# Ejecutar el script de R utilizando subprocess\n",
    "try:\n",
    "    # Si tienes Rscript, puedes usarlo directamente\n",
    "    result = subprocess.run(['Rscript', ruta_script_r], check=True, stdout=subprocess.PIPE, stderr=subprocess.PIPE)\n",
    "    print(f\"Output del script de R:\\n{result.stdout.decode()}\")\n",
    "except subprocess.CalledProcessError as e:\n",
    "    print(f\"Error al ejecutar el script de R:\\n{e.stderr.decode()}\")"
   ]
  },
  {
   "cell_type": "code",
   "execution_count": null,
   "metadata": {},
   "outputs": [],
   "source": [
    "import subprocess\n",
    "import os\n",
    "from PIL import Image\n",
    "import matplotlib.pyplot as plt\n",
    "import time\n",
    "\n",
    "# Ruta al archivo de script de R\n",
    "ruta_script_r = r'C:\\Users\\Pheno\\prueba.R'\n",
    "\n",
    "# Definir el comando para ejecutar el script de R\n",
    "command = f'Rscript \"{ruta_script_r}\"'\n",
    "\n",
    "# Ruta de salida del archivo gráfico generado\n",
    "ruta_imagen = r'C:\\Users\\Pheno\\HOLA.png'\n",
    "\n",
    "# Ejecutar el comando con subprocess\n",
    "try:\n",
    "    # Ejecutar el script R\n",
    "    result = subprocess.run(command, shell=True, capture_output=True, text=True, check=True)\n",
    "    \n",
    "    # Mostrar la salida del comando R\n",
    "    print(\"Salida del comando R:\")\n",
    "    print(result.stdout)\n",
    "\n",
    "    # Mostrar cualquier error si ocurre\n",
    "    if result.stderr:\n",
    "        print(\"Error:\")\n",
    "        print(result.stderr)\n",
    "\n",
    "    # Esperar un poco para asegurarse de que la imagen se haya guardado\n",
    "    time.sleep(2)  # Esperar 2 segundos (ajustable si es necesario)\n",
    "\n",
    "    # Verificar si la imagen fue generada\n",
    "    if os.path.exists(ruta_imagen):\n",
    "        print(f\"La imagen fue generada correctamente en {ruta_imagen}\")\n",
    "        \n",
    "        # Abrir y mostrar la imagen en Python usando PIL y matplotlib\n",
    "        img = Image.open(ruta_imagen)\n",
    "        plt.imshow(img)\n",
    "        plt.axis('off')  # Desactivar los ejes\n",
    "        plt.show()\n",
    "    else:\n",
    "        print(\"No se pudo encontrar la imagen generada.\")\n",
    "\n",
    "except subprocess.CalledProcessError as e:\n",
    "    print(f\"Error al ejecutar el script R: {e.stderr}\")\n"
   ]
  },
  {
   "cell_type": "code",
   "execution_count": null,
   "metadata": {},
   "outputs": [],
   "source": [
    "import matplotlib.pyplot as plt\n",
    "from PIL import Image\n",
    "\n",
    "# Ruta de la imagen que deseas mostrar\n",
    "ruta_imagen = r'C:\\Users\\Pheno\\HOLA.png'  # Sustituye por tu ruta\n",
    "\n",
    "# Abrir la imagen con PIL\n",
    "img = Image.open(ruta_imagen)\n",
    "\n",
    "# Mostrar la imagen con matplotlib\n",
    "plt.imshow(img)\n",
    "plt.axis('off')  # Desactivar los ejes\n",
    "plt.show()"
   ]
  },
  {
   "cell_type": "code",
   "execution_count": null,
   "metadata": {},
   "outputs": [],
   "source": [
    "import subprocess\n",
    "\n",
    "# Definir el comando de R para imprimir el directorio de trabajo\n",
    "command = \"\"\"\n",
    "Rscript -e\n",
    "\"\"\"\n",
    "script=\"\"\"# Intentar imprimir el directorio de trabajo\n",
    "# cat('Directorio de trabajo de R: ', getwd(), '\\\\n')\"\"\"\n",
    "\n",
    "# Ejecutar el comando con subprocess\n",
    "try:\n",
    "    result = subprocess.run(command, shell=True, capture_output=True, text=True, check=True)\n",
    "    \n",
    "    # Mostrar la salida del comando\n",
    "    print(\"Salida del comando R:\")\n",
    "    print(result.stdout)  # Mostrar la salida de R (el directorio de trabajo de R)\n",
    "\n",
    "    # Mostrar cualquier error si ocurre\n",
    "    if result.stderr:\n",
    "        print(\"Error:\")\n",
    "        print(result.stderr)\n",
    "\n",
    "except subprocess.CalledProcessError as e:\n",
    "    print(f\"Error al ejecutar el comando R: {e.stderr}\")\n",
    "\n"
   ]
  },
  {
   "cell_type": "code",
   "execution_count": null,
   "metadata": {},
   "outputs": [],
   "source": [
    "import os\n",
    "import pandas as pd\n",
    "import shutil\n",
    "\n",
    "# Definir rutas de trabajo # Cambia esto a tu ruta\n",
    "input_folder = os.path.join(working_directory, \"Ungrouped_pics_seed_2023_NOCLEAN\")\n",
    "output_folder = os.path.join(working_directory, \"Ungrouped_clean\")\n",
    "\n",
    "# Crear carpeta de destino si no existe\n",
    "os.makedirs(output_folder, exist_ok=True)\n",
    "\n",
    "# Cargar el DataFrame con los nombres de las imágenes\n",
    "info_data_df = pd.read_csv(f\"{working_directory}/info_data_completed_ungrouped_seed2023.txt\", sep=\"\\t\")\n",
    "\n",
    "# Iterar sobre los nombres de las imágenes y copiar cada archivo\n",
    "for image_name in info_data_df['Sample_picture']:\n",
    "    source_path = os.path.join(input_folder, image_name)\n",
    "    destination_path = os.path.join(output_folder, image_name)\n",
    "    \n",
    "    # Verificar si el archivo existe en la carpeta de origen\n",
    "    if os.path.exists(source_path):\n",
    "        shutil.copy(source_path, destination_path)\n",
    "        print(f\"Copiado: {image_name}\")\n",
    "    else:\n",
    "        print(f\"No encontrado: {image_name}\")\n",
    "\n",
    "print(\"Proceso de copia completado.\")\n"
   ]
  },
  {
   "cell_type": "code",
   "execution_count": null,
   "metadata": {},
   "outputs": [],
   "source": [
    "outlier_df_2 = pd.read_csv(r\"C:\\Users\\Pheno\\Documents\\database_almondcv2\\Results_Shell_2023_10122024_watershed\\outlier_table.txt\", delimiter=\"\\t\")\n",
    "morphology_table = pd.read_csv(r\"C:\\Users\\Pheno\\Documents\\database_almondcv2\\Results_Shell_2023_10122024_watershed\\results_morphology.txt\",delimiter=\"\\t\")\n",
    "binary_table = pd.read_csv(r\"C:\\Users\\Pheno\\Documents\\database_almondcv2\\Results_Shell_2023_10122024_watershed\\binary_masks_info_table.txt\" ,delimiter=\"\\t\")\n",
    "\n",
    "path_export_1=r\"C:\\Users\\Pheno\\Documents\\database_almondcv2\\Results_Shell_2023_10122024_watershed\\results_morphology.txt\"\n",
    "path_export_2=r\"C:\\Users\\Pheno\\Documents\\database_almondcv2\\Results_Shell_2023_10122024_watershed\\results_general.txt\"\n",
    "path_export_3= r\"C:\\Users\\Pheno\\Documents\\database_almondcv2\\Results_Shell_2023_10122024_watershed\\pic_results\"\n",
    "path_export_4=r\"C:\\Users\\Pheno\\Documents\\database_almondcv2\\Results_Shell_2023_10122024_watershed\\binary_masks\"\n",
    "path_export_5=r\"C:\\Users\\Pheno\\Documents\\database_almondcv2\\Results_Shell_2023_10122024_watershed\\binary_masks_info_table.txt\"\n",
    "\n",
    "# Filtramos el DataFrame morphology_table para eliminar las filas que tengan combinaciones de Sample_picture y Fruit_number en outlier_df\n",
    "morphology_table_cleaned = morphology_table[~morphology_table[['Sample_picture', 'Fruit_number']].apply(tuple, 1).isin(outlier_df_2[['Sample_picture', 'Fruit_number']].apply(tuple, 1))]\n",
    "# Verificamos el resultado\n",
    "morphology_table_cleaned.to_csv(path_export_1, mode='w', header=True, index=False, sep='\\t')\n",
    "\n",
    "#ELIMINAR DE LA TABLA DE BINARY\n",
    "# Crear una columna temporal en el DataFrame de outliers con la forma de los valores en Binary_mask_picture\n",
    "\n",
    "outlier_df_2['Binary_mask_picture'] = outlier_df_2['Sample_picture'] + \"_\" + outlier_df_2['Fruit_number'].astype(str)\n",
    "\n",
    "# Filtrar el DataFrame de binary masks para eliminar las filas que coincidan con los valores en outlier_df\n",
    "binary_table_cleaned = binary_table[~binary_table['Binary_mask_picture'].isin(outlier_df_2['Binary_mask_picture'])]\n",
    "binary_table_cleaned.to_csv(path_export_5, mode='w', header=True, index=False, sep='\\t')\n",
    "\n",
    "#ELIMINAR LAS BINARY MASKS\n",
    "# Crear la lista de máscaras a eliminar a partir de outlier_df\n",
    "outlier_df_2['Mask_filename'] = outlier_df_2['Sample_picture'] + \"_\" + outlier_df_2['Fruit_number'].astype(str) + \".jpg\"\n",
    "\n",
    "# Iterar sobre los archivos en la carpeta de máscaras\n",
    "for mask_filename in os.listdir(path_export_4):\n",
    "    # Verificar si el archivo está en la lista de máscaras a eliminar\n",
    "    if mask_filename in outlier_df_2['Mask_filename'].values:\n",
    "        # Construir la ruta completa del archivo\n",
    "        file_path = os.path.join(path_export_4, mask_filename)\n",
    "        # Eliminar el archivo\n",
    "        os.remove(file_path)\n",
    "        print(f\"Archivo eliminado: {mask_filename}\")\n",
    "print(\" PLEASE CHECK NUMBER OF FRUITS IN GENERAL TABLE IF YOU ARE WANT WEIGHT.\")"
   ]
  }
 ],
 "metadata": {
  "kernelspec": {
   "display_name": "Python 3",
   "language": "python",
   "name": "python3"
  },
  "language_info": {
   "codemirror_mode": {
    "name": "ipython",
    "version": 3
   },
   "file_extension": ".py",
   "mimetype": "text/x-python",
   "name": "python",
   "nbconvert_exporter": "python",
   "pygments_lexer": "ipython3",
   "version": "3.12.2"
  }
 },
 "nbformat": 4,
 "nbformat_minor": 2
}
