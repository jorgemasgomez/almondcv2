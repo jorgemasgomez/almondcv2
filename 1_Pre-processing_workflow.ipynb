{
 "cells": [
  {
   "cell_type": "markdown",
   "metadata": {},
   "source": [
    "# 1. Pre-processing workflow"
   ]
  },
  {
   "cell_type": "code",
   "execution_count": 6,
   "metadata": {},
   "outputs": [],
   "source": [
    "#Import libraries\n",
    "import os\n",
    "from calibrations import  build_calibration, calibrate_color_and_distortion, calibrate_color, calibrate_distortion\n",
    "\n",
    "from aux_functions import obtain_pixel_metric, ungroup_pic\n",
    "from model_class import ModelSegmentation\n",
    "import pandas as pd\n",
    "\n",
    "#Set paths of the files\n",
    "working_directory=\"C:/Users/Pheno/Documents/database_almondcv2/\"\n",
    "chessboards=os.path.join(working_directory, \"calibracion/chessboards\") #folder with chessboard pitcures\n",
    "raw_folder=os.path.join(working_directory,\"pruebas_jorge\")#folder with the pictures to calibrate\n",
    "mtx_input_path=os.path.join(chessboards,\"calibration_mtx.npz\") #for distortion in npz format\n",
    "standard_matrix_color=os.path.join(working_directory, \"pruebas_jorge/28_10_CG-009.JPG\") #picture of reference\n",
    "output_calibrated=os.path.join(working_directory,\"pruebas_jorge\") #output folder for calibrated pictures\n",
    "\n",
    "coin_model_path=os.path.join(working_directory,\"\")\n",
    "info_table=os.path.join(working_directory,)\n",
    "\n",
    "group_model_path=os.path.join(working_directory, \"models/rectangle_2022_yolov11s_1280.pt\")"
   ]
  },
  {
   "cell_type": "markdown",
   "metadata": {},
   "source": [
    "## Color and Distortion calibration"
   ]
  },
  {
   "cell_type": "code",
   "execution_count": 3,
   "metadata": {},
   "outputs": [],
   "source": [
    "# First build your distortion model based in chessboards\n",
    "build_calibration(chessboardSize=(6, 8), frameSize=(5472,3648), dir_path=chessboards, \n",
    "                  image_format=\".jpg\", size_of_chessboard_squares_mm=20)"
   ]
  },
  {
   "cell_type": "code",
   "execution_count": 7,
   "metadata": {},
   "outputs": [],
   "source": [
    "#Function for calibrate color and distortion\n",
    "calibrate_color_and_distortion(raw_folder=raw_folder,mtx_input_path=mtx_input_path,output_calibrated=output_calibrated,\n",
    "                                radius_param=10, standard_matrix=standard_matrix_color) #Standard matrix is a picture of reference to use instead of the original picture for error cases or simplicity"
   ]
  },
  {
   "cell_type": "code",
   "execution_count": 2,
   "metadata": {},
   "outputs": [],
   "source": [
    "#Function for calibrate distortion only\n",
    "\n",
    "calibrate_distortion(input_folder=raw_folder, mtx_input=mtx_input_path, output_path=output_calibrated, input_picture=None)"
   ]
  },
  {
   "cell_type": "code",
   "execution_count": 3,
   "metadata": {},
   "outputs": [],
   "source": [
    "#Function for calibrate color only\n",
    "\n",
    "calibrate_color(input_folder=raw_folder, output_path=output_calibrated,standard_matrix=standard_matrix_color,\n",
    "                 force_standard_matrix=\"No\")  #force_standard_matrix option uses in all the pictures the reference picture. In negative case, use only standard_matrix in error cases."
   ]
  },
  {
   "cell_type": "markdown",
   "metadata": {},
   "source": [
    "## Obtain pixel size"
   ]
  },
  {
   "cell_type": "code",
   "execution_count": null,
   "metadata": {},
   "outputs": [],
   "source": [
    "#Deploy the model \n",
    "\n",
    "reference_model=ModelSegmentation(working_directory=working_directory)\n",
    "contours_coin=reference_model.slice_predict_reconstruct(input_folder=output_calibrated, imgsz=640,\n",
    "                                                         model_path=coin_model_path, slice_height=640, slice_width=640,\n",
    "                                                         overlap_height_ratio=0.2, overlap_width_ratio=0.2,\n",
    "                                                           retina_mask=True)"
   ]
  },
  {
   "cell_type": "code",
   "execution_count": null,
   "metadata": {},
   "outputs": [],
   "source": [
    "#Load info table\n",
    "info_data_df=pd.read_csv(info_table,sep=\"\\t\")\n",
    "# If we use a calibrated dataset but the info table was previous we can include CL_ automatically with this line\n",
    "info_data_df['Name_picture'] = info_data_df['Name_picture'].apply(lambda x: 'CL_' + x)\n",
    "\n",
    "info_data_completed=obtain_pixel_metric(info_data=info_data_df, contours=contours_coin,\n",
    "                                         output_directory=working_directory, reference=24.25) #reference in mm"
   ]
  },
  {
   "cell_type": "markdown",
   "metadata": {},
   "source": [
    "## Ungroup pictures"
   ]
  },
  {
   "cell_type": "code",
   "execution_count": null,
   "metadata": {},
   "outputs": [],
   "source": [
    "#Load group model\n",
    "group_model=ModelSegmentation(working_directory=working_directory)\n",
    "contours_groups=group_model.predict_model(model_path=group_model_path,\n",
    "                               folder_input=output_calibrated,\n",
    "                               imgsz=1280, check_result=False, max_det=2, retina_mask=False) #Retina mask not recommended here."
   ]
  },
  {
   "cell_type": "code",
   "execution_count": null,
   "metadata": {},
   "outputs": [],
   "source": [
    "#Obtain sample pictures and update info table. \n",
    "info_data_completed_path=os.path.join(working_directory, \"info_data_completed_2022.txt\")\n",
    "info_data_completed=pd.read_csv(info_data_completed_path,sep=\"\\t\")\n",
    "\n",
    "ungroup_pic(input_contours=contours_groups, output_path=working_directory, info_file=info_data_completed, axis=\"X\") #axis indicate if the samples should be order according to Y or X axis"
   ]
  }
 ],
 "metadata": {
  "kernelspec": {
   "display_name": "Python 3",
   "language": "python",
   "name": "python3"
  },
  "language_info": {
   "codemirror_mode": {
    "name": "ipython",
    "version": 3
   },
   "file_extension": ".py",
   "mimetype": "text/x-python",
   "name": "python",
   "nbconvert_exporter": "python",
   "pygments_lexer": "ipython3",
   "version": "3.12.2"
  }
 },
 "nbformat": 4,
 "nbformat_minor": 2
}
